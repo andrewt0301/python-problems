{
 "cells": [
  {
   "cell_type": "markdown",
   "metadata": {
    "collapsed": true,
    "pycharm": {
     "name": "#%% md\n"
    }
   },
   "source": [
    "#  Workshop 7\n",
    "## _Zen of python (PEP-20). Code Style (PEP-8). Documenting code (PEP-257). Files. Exceptions and errors. Program debugging._\n",
    "### TODO: UNDER DEVELOPMENT\n"
   ]
  },
  {
   "cell_type": "markdown",
   "source": [
    "### The Zen of Python\n",
    "\n",
    "Python has a somewhat Zen description of its design principles, which are\n",
    "described in the document\n",
    "[PEP 20 -- The Zen of Python](https://www.python.org/dev/peps/pep-0020/).\n",
    "\n",
    "_PEP stands for Python Enhancement Proposal. A PEP is a design document providing information\n",
    "to the Python community, or describing a new feature for Python or its processes or environment_.\n",
    "\n",
    "You can also find the design principles inside the Python interpreter itself by typing \"_import this_\".\n"
   ],
   "metadata": {
    "pycharm": {
     "metadata": false
    }
   }
  },
  {
   "cell_type": "code",
   "execution_count": 1,
   "outputs": [
    {
     "name": "stdout",
     "text": [
      "The Zen of Python, by Tim Peters\n\nBeautiful is better than ugly.\nExplicit is better than implicit.\nSimple is better than complex.\nComplex is better than complicated.\nFlat is better than nested.\nSparse is better than dense.\nReadability counts.\nSpecial cases aren't special enough to break the rules.\nAlthough practicality beats purity.\nErrors should never pass silently.\nUnless explicitly silenced.\nIn the face of ambiguity, refuse the temptation to guess.\nThere should be one-- and preferably only one --obvious way to do it.\nAlthough that way may not be obvious at first unless you're Dutch.\nNow is better than never.\nAlthough never is often better than *right* now.\nIf the implementation is hard to explain, it's a bad idea.\nIf the implementation is easy to explain, it may be a good idea.\nNamespaces are one honking great idea -- let's do more of those!\n"
     ],
     "output_type": "stream"
    }
   ],
   "source": [
    "import this\n"
   ],
   "metadata": {
    "pycharm": {
     "metadata": false,
     "name": "#%% \n",
     "is_executing": false
    }
   }
  },
  {
   "cell_type": "markdown",
   "source": [
    "### Python Code Style\n",
    "\n",
    "When writing complex code, it is very important to make it easy for others to read.\n",
    "This means than code must follow a particular style accepted by all developers.\n",
    "\n",
    "Python has its own code style conventions, which are described in the document\n",
    "[PEP 8 -- Style Guide for Python Code](https://www.python.org/dev/peps/pep-0008/).\n",
    " \n",
    "Here are the most important of them:\n",
    "\n",
    "* Use 4-space indentation, and no tabs.\n",
    "  4 spaces are a good compromise between small indentation (allows greater nesting depth)\n",
    "  and large indentation (easier to read). Tabs introduce confusion, and are best left out.\n",
    "\n",
    "* Wrap lines so that they don’t exceed 79 characters.\n",
    "  This helps users with small displays and makes it possible to have several code\n",
    "  files side-by-side on larger displays.\n",
    "\n",
    "* Use blank lines to separate functions and classes, and larger blocks of code inside functions.\n",
    "\n",
    "* When possible, put comments on a line of their own.\n",
    "\n",
    "* Use docstrings.\n",
    "\n",
    "* Use spaces around operators and after commas,\n",
    "  but not directly inside bracketing constructs: a = f(1, 2) + g(3, 4).\n",
    "\n",
    "* Name your classes and functions consistently; the convention is to use UpperCamelCase for classes and\n",
    "  lowercase_with_underscores for functions and methods. Always use self as the name for the first\n",
    "  method argument.\n",
    "\n",
    "* Don’t use fancy encodings if your code is meant to be used in international environments.\n",
    "  Python’s default, UTF-8, or even plain ASCII work best in any case.\n",
    "\n",
    "* Likewise, don’t use non-ASCII characters in identifiers if there is only the slightest chance\n",
    "  people speaking a different language will read or maintain the code.\n",
    "\n",
    "### Documenting code\n",
    "\n",
    "In order to be understandable, code needs to include documentation.\n",
    "\n",
    "For this purpose, comments are used. They provide descriptions for various entities\n",
    "defined in a program (variables, functions, classes, modules, etc.).\n",
    "Comments in Python start with the hash character (#) and extend to the end of the physical line. \n",
    "\n",
    "Some examples:\n"
   ],
   "metadata": {
    "pycharm": {
     "metadata": false
    }
   }
  },
  {
   "cell_type": "code",
   "execution_count": null,
   "outputs": [],
   "source": [
    "# this is the first comment\n",
    "spam = 1 # and this is the second comment\n",
    "# ... and now a third!\n",
    "text = \"# This is not a comment because it's inside quotes.\"\n"
   ],
   "metadata": {
    "collapsed": false,
    "pycharm": {
     "name": "#%%\n"
    }
   }
  },
  {
   "cell_type": "markdown",
   "source": [
    "\n",
    "Python also supports documentation that is automatically attached to objects\n",
    "and retained at runtime for inspection. Syntactically, such comments are coded as strings\n",
    "at the tops of module files and function and class statements.\n",
    "Python automatically stuffs the text of these strings, known informally as docstrings,\n",
    "into the \\_\\_doc\\_\\_ attributes of the corresponding objects.\n"
   ],
   "metadata": {
    "collapsed": false,
    "pycharm": {
     "name": "#%% md\n"
    }
   }
  },
  {
   "cell_type": "code",
   "execution_count": null,
   "outputs": [],
   "source": [
    "\"\"\"\n",
    "Module documentation\n",
    "\"\"\"\n",
    "\n",
    "\n",
    "class Employee:\n",
    "    \"\"\"Class documentation\"\"\"\n",
    "    pass\n",
    "\n",
    "\n",
    "def square(x):\n",
    "    \"\"\"Function documentation\"\"\"\n",
    "    return x ** 2\n",
    "\n",
    "\n",
    "print(__doc__)\n",
    "print(square.__doc__)\n",
    "print(Employee.__doc__)\n"
   ],
   "metadata": {
    "pycharm": {
     "metadata": false,
     "name": "#%%\n"
    }
   }
  },
  {
   "cell_type": "markdown",
   "source": [
    "\n",
    "It is considered a good style to annotate all modules, classes and functions with docstrings.\n",
    "The complete documentation guide is provided in the document\n",
    "[PEP 257 -- Docstring Conventions](https://www.python.org/dev/peps/pep-0257/).\n",
    "\n",
    "### Files\n",
    "\n",
    "Python provides facilities to work with files. The _open()_ function returns a file object,\n",
    "and is most commonly used with two arguments: _open(filename, mode)_.\n"
   ],
   "metadata": {
    "pycharm": {
     "metadata": false
    }
   }
  },
  {
   "cell_type": "code",
   "execution_count": 2,
   "outputs": [],
   "source": [
    "f = open('workfile', 'w')\n"
   ],
   "metadata": {
    "collapsed": false,
    "pycharm": {
     "name": "#%%\n",
     "is_executing": false
    }
   }
  },
  {
   "cell_type": "markdown",
   "source": [
    "\n",
    "TODO\n",
    " \n",
    "### Exceptions and errors\n",
    "\n",
    "TODO\n",
    " \n",
    "### Program debugging\n",
    "\n",
    "TODO\n",
    "\n",
    "### Tasks\n",
    "\n",
    "TODO\n"
   ],
   "metadata": {
    "collapsed": false,
    "pycharm": {
     "name": "#%% md\n"
    }
   }
  }
 ],
 "metadata": {
  "language_info": {
   "codemirror_mode": {
    "name": "ipython",
    "version": 2
   },
   "file_extension": ".py",
   "mimetype": "text/x-python",
   "name": "python",
   "nbconvert_exporter": "python",
   "pygments_lexer": "ipython2",
   "version": "2.7.6"
  },
  "kernelspec": {
   "name": "python3",
   "language": "python",
   "display_name": "Python 3"
  },
  "pycharm": {
   "stem_cell": {
    "cell_type": "raw",
    "source": [],
    "metadata": {
     "collapsed": false
    }
   }
  }
 },
 "nbformat": 4,
 "nbformat_minor": 0
}