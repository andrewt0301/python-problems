{
  "cells": [
    {
      "cell_type": "markdown",
      "metadata": {
        "collapsed": true,
        "pycharm": {
          "name": "#%% md\n"
        }
      },
      "source": "#  Workshop 7\n## _Zen of python (PEP-20). Code Style (PEP-8). Documenting code (PEP-257). Files. Exceptions and errors. Program debugging._\n### TODO: UNDER DEVELOPMENT\n"
    },
    {
      "cell_type": "markdown",
      "source": "### The Zen of Python\n\nPython has a somewhat Zen description of its design principles,\nwhich you can also find inside the Python interpreter itself by typing “import this.”\n",
      "metadata": {
        "pycharm": {
          "metadata": false
        }
      }
    },
    {
      "cell_type": "code",
      "execution_count": null,
      "outputs": [],
      "source": "import this\n",
      "metadata": {
        "pycharm": {
          "metadata": false,
          "name": "#%% \n"
        }
      }
    },
    {
      "cell_type": "markdown",
      "source": "The Python design principles are described in the document\n[PEP 20 -- The Zen of Python](https://www.python.org/dev/peps/pep-0020/).\n\n_PEP stands for Python Enhancement Proposal. A PEP is a design document providing information\nto the Python community, or describing a new feature for Python or its processes or environment_.\n",
      "metadata": {
        "pycharm": {
          "metadata": false,
          "name": "#%% md\n"
        }
      }
    },
    {
      "cell_type": "markdown",
      "source": "### Python Code Style\n\nWhen writing a complex code, it is important to follow a good code style.\nMaking it easy for others to read your code is always a good idea, and adopting\na nice coding style helps tremendously for that.\n\nPython has an established set of code style rules. Here are the most important of them:\n\n* Use 4-space indentation, and no tabs.\n  4 spaces are a good compromise between small indentation (allows greater nesting depth)\n  and large indentation (easier to read). Tabs introduce confusion, and are best left out.\n\n* Wrap lines so that they don’t exceed 79 characters.\n  This helps users with small displays and makes it possible to have several code\n  files side-by-side on larger displays.\n\n* Use blank lines to separate functions and classes, and larger blocks of code inside functions.\n\n* When possible, put comments on a line of their own.\n\n* Use docstrings.\n\n* Use spaces around operators and after commas,\n  but not directly inside bracketing constructs: a \u003d f(1, 2) + g(3, 4).\n\n* Name your classes and functions consistently; the convention is to use UpperCamelCase for classes and\n  lowercase_with_underscores for functions and methods. Always use self as the name for the first\n  method argument.\n\n* Don’t use fancy encodings if your code is meant to be used in international environments.\n  Python’s default, UTF-8, or even plain ASCII work best in any case.\n\n* Likewise, don’t use non-ASCII characters in identifiers if there is only the slightest chance\n  people speaking a different language will read or maintain the code.\n\nThe complete list of Python code style rules is provided in the document\n[PEP 8 -- Style Guide for Python Code](https://www.python.org/dev/peps/pep-0008/).\n\n### Documenting code\n\nPython supports documentation that is automatically attached to objects\nand retained at runtime for inspection. Syntactically, such comments are coded as strings\nat the tops of module files and function and class statements.\nPython automatically stuffs the text of these strings, known informally as docstrings,\ninto the \\_\\_doc\\_\\_ attributes of the corresponding objects.\n",
      "metadata": {
        "pycharm": {
          "metadata": false
        }
      }
    },
    {
      "cell_type": "code",
      "execution_count": null,
      "outputs": [],
      "source": "\"\"\"\nModule documentation\n\"\"\"\n\n\nclass Employee:\n    \"\"\"Class documentation\"\"\"\n    pass\n\n\ndef square(x):\n    \"\"\"Function documentation\"\"\"\n    return x ** 2\n\n\nprint(__doc__)\nprint(square.__doc__)\nprint(Employee.__doc__)\n",
      "metadata": {
        "pycharm": {
          "metadata": false,
          "name": "#%%\n"
        }
      }
    },
    {
      "cell_type": "markdown",
      "source": "\nThe complete documentation guide is provided in the document\n[PEP 257 -- Docstring Conventions](https://www.python.org/dev/peps/pep-0257/).\n\n### Files\n\nTODO\n \n### Exceptions and errors\n\nTODO\n \n### Program debugging\n\nTODO\n\n### Tasks\n\nTODO\n",
      "metadata": {
        "pycharm": {
          "metadata": false
        }
      }
    }
  ],
  "metadata": {
    "language_info": {
      "codemirror_mode": {
        "name": "ipython",
        "version": 2
      },
      "file_extension": ".py",
      "mimetype": "text/x-python",
      "name": "python",
      "nbconvert_exporter": "python",
      "pygments_lexer": "ipython2",
      "version": "2.7.6"
    },
    "kernelspec": {
      "name": "python3",
      "language": "python",
      "display_name": "Python 3"
    }
  },
  "nbformat": 4,
  "nbformat_minor": 0
}