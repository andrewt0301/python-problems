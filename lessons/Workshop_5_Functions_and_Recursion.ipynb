{
  "nbformat": 4,
  "nbformat_minor": 0,
  "metadata": {
    "language_info": {
      "codemirror_mode": {
        "name": "ipython",
        "version": 2
      },
      "file_extension": ".py",
      "mimetype": "text/x-python",
      "name": "python",
      "nbconvert_exporter": "python",
      "pygments_lexer": "ipython2",
      "version": "2.7.6"
    },
    "kernelspec": {
      "name": "python3",
      "language": "python",
      "display_name": "Python 3"
    },
    "stem_cell": {
      "cell_type": "raw",
      "source": "",
      "metadata": {
        "pycharm": {
          "metadata": false
        }
      }
    },
    "colab": {
      "name": "Functions_and_Recursion.ipynb",
      "version": "0.3.2",
      "provenance": []
    },
    "pycharm": {
      "stem_cell": {
        "cell_type": "raw",
        "source": [],
        "metadata": {
          "collapsed": false
        }
      }
    }
  },
  "cells": [
    {
      "cell_type": "markdown",
      "source": [
        "#  Workshop 5\n",
        "## _Functions and recursion. Lambda-functions. Named parameters._\n",
        "### TODO: UNDER DEVELOPMENT\n",
        "\n"
      ],
      "metadata": {
        "collapsed": false,
        "pycharm": {
          "name": "#%% md\n"
        }
      }
    },
    {
      "cell_type": "markdown",
      "metadata": {
        "pycharm": {
          "metadata": false,
          "name": "#%% md\n"
        },
        "id": "4I0xVPeDnYih",
        "colab_type": "code",
        "colab": {}
      },
      "source": [
        "### Functions\n",
        "\n",
        "__Definition__: A function is a rule of taking zero and more inputs, performing some actions\n",
        "                with the inputs and returning a corresponding output.\n",
        "\n",
        "In Python, we typically define functions using _def_:\n",
        "\n"
      ]
    },
    {
      "cell_type": "code",
      "metadata": {
        "pycharm": {
          "metadata": false,
          "name": "#%%\n",
          "is_executing": false
        },
        "id": "zK6p_m2anYir",
        "colab_type": "code",
        "colab": {}
      },
      "source": [
        "def double(x):\n",
        "    \"\"\"this is where you can put an optional docstring\n",
        "    that explains when the function does.\n",
        "    for example, this function multiplies its input by 2\"\"\"\n",
        "    return x * 2\n",
        "\n",
        "y \u003d double(10) # doubles integer value 10\n",
        "y # prints it\n",
        "\n"
      ],
      "execution_count": 11,
      "outputs": [
        {
          "data": {
            "text/plain": "20"
          },
          "metadata": {},
          "output_type": "execute_result",
          "execution_count": 11
        }
      ]
    },
    {
      "cell_type": "markdown",
      "source": [
        "\n",
        "A function may or may not return an output value.\n",
        "For example, the _fib_ function below calculates and prints the Fibonacci series.\n",
        "It does not return any output values.\n"
      ],
      "metadata": {
        "collapsed": false,
        "pycharm": {}
      }
    },
    {
      "cell_type": "code",
      "execution_count": 12,
      "outputs": [
        {
          "name": "stdout",
          "text": [
            "0 1 1 2 3 5 8 13 21 34 55 89 144 233 377 610 987 1597 \n"
          ],
          "output_type": "stream"
        }
      ],
      "source": [
        "def fib(n): # write Fibonacci series up to n\n",
        "    \"\"\"Print a Fibonacci series up to n.\"\"\"\n",
        "    a, b \u003d 0, 1\n",
        "    while a \u003c n:\n",
        "       print(a, end\u003d\u0027 \u0027)\n",
        "       a, b \u003d b, a + b\n",
        "    print()\n",
        "\n",
        "# Now call the function we just defined:\n",
        "fib(100)\n",
        "\n"
      ],
      "metadata": {
        "collapsed": false,
        "pycharm": {
          "name": "#%%\n",
          "is_executing": false
        }
      }
    },
    {
      "cell_type": "markdown",
      "source": [
        "\n",
        "When a functions needs to return an output value, it uses the _return_ operator.\n",
        "In the example below, the _fib2_ function returns a list of the numbers of the Fibonacci\n",
        "series instead of printing them:\n",
        "\n"
      ],
      "metadata": {
        "collapsed": false,
        "pycharm": {
          "name": "#%% md\n"
        }
      }
    },
    {
      "cell_type": "code",
      "execution_count": 1,
      "outputs": [
        {
          "data": {
            "text/plain": "[0, 1, 1, 2, 3, 5, 8, 13, 21, 34, 55, 89]"
          },
          "metadata": {},
          "output_type": "execute_result",
          "execution_count": 1
        }
      ],
      "source": [
        "def fib2(n): # return Fibonacci series up to n\n",
        "    \"\"\"Return a list containing the Fibonacci series up to n.\"\"\"\n",
        "    result \u003d []\n",
        "    a, b \u003d 0, 1\n",
        "    while a \u003c n:\n",
        "       result.append(a) # see below\n",
        "       a, b \u003d b, a + b\n",
        "    return result\n",
        "\n",
        "\n",
        "f100 \u003d fib2(100) # call it\n",
        "f100 # write the result\n"
      ],
      "metadata": {
        "collapsed": false,
        "pycharm": {
          "name": "#%%\n",
          "is_executing": false
        }
      }
    },
    {
      "cell_type": "markdown",
      "source": [
        "\n",
        "### Recursion \n",
        "\n",
        "Python allows functions to call themselves to loop. This technique is known as _recursion_.\n",
        "\n",
        "For example, here is how we can use recutrsion tp write a function that sums a list of numbers:\n",
        "\n"
      ],
      "metadata": {
        "collapsed": false,
        "pycharm": {
          "name": "#%% md\n"
        }
      }
    },
    {
      "cell_type": "code",
      "source": [
        "\n",
        "def mysum(L):\n",
        "    if not L:\n",
        "        return 0\n",
        "    else:\n",
        "        return L[0] + mysum(L[1:]) # Call myself recursively\n",
        "\n",
        "x \u003d mysum([1,2,3,4,5])\n",
        "x\n"
      ],
      "metadata": {
        "collapsed": false,
        "pycharm": {
          "name": "#%%\n",
          "is_executing": false
        }
      },
      "execution_count": 1,
      "outputs": [
        {
          "data": {
            "text/plain": "15"
          },
          "metadata": {},
          "output_type": "execute_result",
          "execution_count": 1
        }
      ]
    },
    {
      "cell_type": "markdown",
      "source": [
        "\n",
        "\n",
        "Here is how we can calculate a factorial using recursion:\n"
      ],
      "metadata": {
        "collapsed": false,
        "pycharm": {}
      }
    },
    {
      "cell_type": "code",
      "execution_count": 2,
      "outputs": [
        {
          "name": "stdout",
          "text": [
            " 0! \u003d 1\n 1! \u003d 1\n 2! \u003d 2\n 3! \u003d 6\n 4! \u003d 24\n 5! \u003d 120\n 6! \u003d 720\n 7! \u003d 5040\n 8! \u003d 40320\n 9! \u003d 362880\n"
          ],
          "output_type": "stream"
        }
      ],
      "source": [
        "\n",
        "def factorial( n ):\n",
        "   if n \u003c1:   # base case\n",
        "       return 1\n",
        "   else:\n",
        "       return n * factorial( n - 1 )  # recursive call\n",
        "\n",
        "\n",
        "for i in range(10):\n",
        "    print(\"%2d! \u003d %d\" % (i, factorial(i)))\n"
      ],
      "metadata": {
        "collapsed": false,
        "pycharm": {
          "name": "#%%\n",
          "is_executing": false
        }
      }
    },
    {
      "cell_type": "markdown",
      "source": [
        "\n",
        "\n",
        "### Lambdas\n",
        "\n",
        "Python functions are _first-class_, which means that we can assign them to variables and\n",
        "pass them into functions just like any other arguments:\n"
      ],
      "metadata": {
        "collapsed": false,
        "pycharm": {}
      }
    },
    {
      "cell_type": "code",
      "execution_count": null,
      "outputs": [],
      "source": [
        "def apply_to_one(f):\n",
        "    \"\"\"calls the function f with 1 as its argument\"\"\"\n",
        "    return f(1)\n",
        "\n",
        "\n",
        "my_double \u003d double          # refers to the previously defined function\n",
        "x \u003d apply_to_one(my_double) # equals 2\n",
        "\n",
        "print(x)\n"
      ],
      "metadata": {
        "collapsed": false,
        "pycharm": {
          "name": "#%%\n",
          "is_executing": true
        }
      }
    },
    {
      "cell_type": "markdown",
      "source": [
        "It is also easy to create short anonymous functions, or _lambdas_:\n"
      ],
      "metadata": {
        "collapsed": false,
        "pycharm": {
          "name": "#%% md\n"
        }
      }
    },
    {
      "cell_type": "code",
      "execution_count": null,
      "outputs": [],
      "source": [
        "y \u003d apply_to_one(lambda x: x + 4) # equals 5\n",
        "print(y)\n"
      ],
      "metadata": {
        "collapsed": false,
        "pycharm": {
          "name": "#%%\n"
        }
      }
    },
    {
      "cell_type": "markdown",
      "source": [
        "\n",
        "You can assign lambdas to variables, although most people will tell you that you should\n",
        "just use def instead:\n"
      ],
      "metadata": {
        "collapsed": false,
        "pycharm": {}
      }
    },
    {
      "cell_type": "code",
      "execution_count": null,
      "outputs": [],
      "source": [
        "another_double \u003d lambda x: 2 * x     # don\u0027t do this\n",
        "def another_double(x): return 2 * x  # do this instead\n",
        "\n"
      ],
      "metadata": {
        "collapsed": false,
        "pycharm": {
          "name": "#%%\n"
        }
      }
    },
    {
      "cell_type": "markdown",
      "source": [
        "\n",
        "Function parameters can also be given default arguments, which only need to be specified\n",
        "when you want a value other than the default:\n"
      ],
      "metadata": {
        "collapsed": false,
        "pycharm": {
          "name": "#%% md\n"
        }
      }
    },
    {
      "cell_type": "code",
      "execution_count": null,
      "outputs": [],
      "source": [
        "def my_print(message\u003d\"my default message\"):\n",
        "    print(message)\n",
        "\n",
        "\n",
        "my_print(\"hello\") # prints \u0027hello\u0027\n",
        "my_print()        # prints \u0027my default message\u0027\n"
      ],
      "metadata": {
        "collapsed": false,
        "pycharm": {
          "name": "#%%\n"
        }
      }
    },
    {
      "cell_type": "markdown",
      "source": [
        "\n",
        "It is sometimes useful to specify arguments by name:\n"
      ],
      "metadata": {
        "collapsed": false,
        "pycharm": {}
      }
    },
    {
      "cell_type": "code",
      "execution_count": null,
      "outputs": [],
      "source": [
        "def subtract(a\u003d0, b\u003d0):\n",
        "    return a - b\n",
        "\n",
        "subtract(10, 5) # returns 5\n",
        "subtract(0, 5)  # returns -5\n",
        "subtract(b\u003d5)   # same as previous\n"
      ],
      "metadata": {
        "collapsed": false,
        "pycharm": {
          "name": "#%%\n"
        }
      }
    },
    {
      "cell_type": "markdown",
      "metadata": {
        "pycharm": {
          "metadata": false
        },
        "id": "81BX1vmbnYi4",
        "colab_type": "text"
      },
      "source": [
        "#### Scopes and Namespaces\n",
        "\n",
        "Scope rules:\n",
        "\n",
        "* If a variable is assigned inside a def, it is local to that function.\n",
        "* If a variable is assigned in an enclosing def, it is nonlocal to nested functions.\n",
        "* If a variable is assigned outside all defs, it is global to the entire file.\n",
        "\n",
        "This is an example demonstrating how to reference the different scopes and namespaces,\n",
        "and how _global_ and _nonlocal_ affect variable binding:\n"
      ]
    },
    {
      "cell_type": "code",
      "metadata": {
        "pycharm": {
          "metadata": false,
          "name": "#%%\n"
        },
        "id": "GZGQiZ0anYi5",
        "colab_type": "code",
        "colab": {
          "base_uri": "https://localhost:8080/",
          "height": 85
        },
        "outputId": "bfb102df-b9ce-4454-9d85-dab5c0ed28bc",
        "executionInfo": {
          "status": "ok",
          "timestamp": 1567455291328,
          "user_tz": -180,
          "elapsed": 595,
          "user": {
            "displayName": "Andrei Tatarnikov",
            "photoUrl": "",
            "userId": "10245439938470333008"
          }
        }
      },
      "source": [
        "def scope_test():\n",
        "    def do_local():\n",
        "        spam \u003d \"local spam\"\n",
        "\n",
        "    def do_nonlocal():\n",
        "        nonlocal spam\n",
        "        spam \u003d \"nonlocal spam\"\n",
        "\n",
        "    def do_global():\n",
        "        global spam\n",
        "        spam \u003d \"global spam\"\n",
        "\n",
        "    spam \u003d \"test spam\"\n",
        "    do_local()\n",
        "    print(\"After local assignment:\", spam)\n",
        "    do_nonlocal()\n",
        "    print(\"After nonlocal assignment:\", spam)\n",
        "    do_global()\n",
        "    print(\"After global assignment:\", spam)\n",
        "\n",
        "scope_test()\n",
        "print(\"In global scope:\", spam)\n"
      ],
      "execution_count": 2,
      "outputs": [
        {
          "output_type": "stream",
          "text": [
            "After local assignment: test spam\n",
            "After nonlocal assignment: nonlocal spam\n",
            "After global assignment: nonlocal spam\n",
            "In global scope: global spam\n"
          ],
          "name": "stdout"
        }
      ]
    },
    {
      "cell_type": "markdown",
      "metadata": {
        "pycharm": {
          "metadata": false
        },
        "id": "yrYyW13YnYi9",
        "colab_type": "text"
      },
      "source": [
        "Note how the local assignment (which is default) did not change scope_test’s binding of spam.\n",
        "The nonlocal assignment changed scope_test’s binding of spam, and the global assignment\n",
        "changed the module-level binding.\n",
        "\n",
        "You can also see that there was no previous binding for spam before the global assignment.\n"
      ]
    },
    {
      "cell_type": "markdown",
      "source": [
        " \n",
        "### Tasks\n",
        "\n",
        "TODO\n"
      ],
      "metadata": {
        "collapsed": false,
        "pycharm": {
          "name": "#%% md\n"
        }
      }
    }
  ]
}