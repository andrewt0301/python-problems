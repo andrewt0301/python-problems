{
  "cells": [
    {
      "cell_type": "markdown",
      "metadata": {
        "collapsed": true,
        "pycharm": {
          "name": "#%% md\n"
        }
      },
      "source": "#  Workshop 13\n## _Object-oriented programming._\n\n#### Classes and Objects\n"
    },
    {
      "cell_type": "code",
      "execution_count": null,
      "outputs": [],
      "source": "class MyClass:\n    pass\n\n\nobj1 \u003d MyClass()\nobj2 \u003d MyClass()\n\nprint(obj1)\nprint(type(obj1))\n\nprint(obj2)\nprint(type(obj2))\n",
      "metadata": {
        "pycharm": {
          "metadata": false,
          "name": "#%%\n"
        }
      }
    },
    {
      "cell_type": "markdown",
      "source": "##### Constructor and destructor\n",
      "metadata": {
        "pycharm": {
          "metadata": false
        }
      }
    },
    {
      "cell_type": "code",
      "execution_count": null,
      "outputs": [],
      "source": "class Employee: \n  \n    def __init__(self): \n        print(\u0027Employee created.\u0027) \n  \n    def __del__(self): \n        print(\u0027Destructor called, Employee deleted.\u0027) \n  \nobj \u003d Employee() \ndel obj \n",
      "metadata": {
        "pycharm": {
          "metadata": false,
          "name": "#%%\n"
        }
      }
    },
    {
      "cell_type": "markdown",
      "source": "##### Attributes and methods\n",
      "metadata": {
        "pycharm": {
          "metadata": false,
          "name": "#%% md\n"
        }
      }
    },
    {
      "cell_type": "code",
      "execution_count": null,
      "outputs": [],
      "source": "class Student:\n\n    def __init__(self, name, grade):\n        self.name \u003d name\n        self.grade \u003d grade\n\n    def __str__(self):\n        return \u0027{\u0027 + self.name + \u0027: \u0027 + str(self.grade) + \u0027}\u0027\n\n    def learn(self):\n        print(\u0027My name is %s. I am learning Python! My grade is %d.\u0027 % (self.name, self.grade))\n\n\nstudents \u003d [Student(\u0027Steve\u0027, 9), Student(\u0027Oleg\u0027, 10)]\n\nfor student in students:\n    print()\n    print(\u0027student.name \u003d \u0027 + student.name)\n    print(\u0027student.grade \u003d \u0027 + str(student.grade))\n    print(\u0027student \u003d \u0027 + str(student))\n    student.learn()\n",
      "metadata": {
        "pycharm": {
          "metadata": false,
          "name": "#%%\n"
        }
      }
    },
    {
      "cell_type": "markdown",
      "source": "##### Class and instance attributes\n",
      "metadata": {
        "pycharm": {
          "metadata": false,
          "name": "#%% md\n"
        }
      }
    },
    {
      "cell_type": "code",
      "execution_count": null,
      "outputs": [],
      "source": "class Person:\n\n    # class variable shared by all instances\n    status \u003d \u0027student\u0027\n\n    def __init__(self, name):\n        # instance variable unique to each instance\n        self.name \u003d name\n\n\na \u003d Person(\u0027Steve\u0027)\nb \u003d Person(\u0027Mark\u0027)\n\nprint(\u0027\u0027)\nprint(a.name + \u0027 : \u0027 + a.status)\nprint(b.name + \u0027 : \u0027 + b.status)\n\nPerson.status \u003d \u0027graduate\u0027\n\nprint(\u0027\u0027)\nprint(a.name + \u0027 : \u0027 + a.status)\nprint(b.name + \u0027 : \u0027 + b.status)\n\nPerson.status \u003d \u0027student\u0027\n\nprint(\u0027\u0027)\nprint(a.name + \u0027 : \u0027 + a.status)\nprint(b.name + \u0027 : \u0027 + b.status)\n",
      "metadata": {
        "pycharm": {
          "metadata": false,
          "name": "#%%\n"
        }
      }
    },
    {
      "cell_type": "markdown",
      "source": "##### Class and static methods\n",
      "metadata": {
        "pycharm": {
          "metadata": false,
          "name": "#%% md\n"
        }
      }
    },
    {
      "cell_type": "code",
      "execution_count": null,
      "outputs": [],
      "source": "class Env:\n    os \u003d \u0027Windows\u0027\n\n    @classmethod\n    def print_os(self):\n        print(self.os)\n        \n    @staticmethod\n    def print_user():\n        print(\u0027guest\u0027)\n\n\nEnv.print_os()\nEnv.print_user()\n",
      "metadata": {
        "pycharm": {
          "metadata": false,
          "name": "#%%\n"
        }
      }
    },
    {
      "cell_type": "markdown",
      "source": "##### Encapsulation\n",
      "metadata": {
        "pycharm": {
          "metadata": false,
          "name": "#%% md\n"
        }
      }
    },
    {
      "cell_type": "code",
      "source": "class Person:\n\n    def __init__(self, name):\n        self.name \u003d name\n\n    def __str__(self):\n        return \u0027My name is \u0027 + self.name\n\n\nperson \u003d Person(\u0027Steve\u0027)\nprint(person.name)\n\nperson.name \u003d \u0027Said\u0027 \nprint(person.name)\n",
      "metadata": {
        "pycharm": {
          "metadata": false,
          "name": "#%%\n"
        }
      },
      "execution_count": null,
      "outputs": []
    },
    {
      "cell_type": "code",
      "execution_count": null,
      "outputs": [],
      "source": "class Identity:\n\n    def __init__(self, name):\n        self.__name \u003d name\n\n    def __str__(self):\n        return \u0027My name is \u0027 + self.__name\n\n\nperson \u003d Identity(\u0027Steve\u0027)\nprint(person.__name)\n\nperson.__name \u003d \u0027Said\u0027 \nprint(person)\n",
      "metadata": {
        "pycharm": {
          "metadata": false,
          "name": "#%%\n"
        }
      }
    },
    {
      "cell_type": "markdown",
      "source": "##### Operator overloading\n",
      "metadata": {
        "pycharm": {
          "metadata": false
        }
      }
    },
    {
      "cell_type": "code",
      "execution_count": null,
      "outputs": [],
      "source": "class Number:\n\n    def __init__(self, value):\n        self.__value \u003d value\n\n    def __del__(self):\n        pass\n\n    def __str__(self):\n        return str(self.__value)\n\n    def __int__(self):\n        return self.__value\n\n    def __eq__(self, other):\n        return self.__value \u003d\u003d other.__value\n\n    def __ne__(self, other):\n        return self.__value !\u003d other.__value\n\n    def __lt__(self, other):\n        return self.__value \u003c other.__value\n\n    def __gt__(self, other):\n        return self.__value \u003e other.__value\n\n    def __add__(self, other):\n        return Number(self.__value + other.__value)\n\n    def __mul__(self, other):\n        return Number(self.__value * other.__value)\n\n    def __neg__(self):\n        return Number(-self.__value)\n\n\na \u003d Number(10)\nb \u003d Number(20)\nc \u003d Number(5)\n\n# Overloaded operators\nx \u003d -a + b * c\nprint(x)\n\nprint(a \u003c b)\nprint(b \u003e c)\n\n# Unsupported operators\nprint(a \u003c\u003d b)\nprint(b \u003e\u003d c)\nprint(a // c)\n",
      "metadata": {
        "pycharm": {
          "metadata": false,
          "name": "#%%\n"
        }
      }
    },
    {
      "cell_type": "markdown",
      "source": "#### Inheritance and polymorphism\n",
      "metadata": {
        "pycharm": {
          "metadata": false,
          "name": "#%% md\n"
        }
      }
    },
    {
      "cell_type": "code",
      "execution_count": null,
      "outputs": [],
      "source": "class Creature:\n    def say(self):\n        pass\n\n\nclass Dog(Creature):\n    def say(self):\n        print(\u0027Woof!\u0027)\n\n\nclass Cat(Creature):\n    def say(self):\n        print(\"Meow!\")\n\n\nclass Lion(Creature):\n    def say(self):\n        print(\"Roar!\")\n        \n\nanimals \u003d [Creature(), Dog(), Cat(), Lion()]\n\nfor animal in animals:\n    print(type(animal))\n    animal.say()\n\n",
      "metadata": {
        "pycharm": {
          "metadata": false,
          "name": "#%%\n"
        }
      }
    },
    {
      "cell_type": "markdown",
      "source": "##### Multiple inheritance\n",
      "metadata": {
        "pycharm": {
          "metadata": false,
          "name": "#%% md\n"
        }
      }
    },
    {
      "cell_type": "code",
      "execution_count": null,
      "outputs": [],
      "source": "class Person:\n    def __init__(self, name):\n        self.name \u003d name\n\n\nclass Student(Person):\n    def __init__(self, name, grade):\n        super().__init__(name)\n        self.grade \u003d grade\n\n\nclass Employee:\n    def __init__(self, salary):\n        self.salary \u003d salary\n\n\nclass Teacher(Person, Employee):\n    def __init__(self, name, salary):\n        Person.__init__(self, name)\n        Employee.__init__(self, salary)\n\n\nclass TA(Student, Employee):\n    def __init__(self, name, grage, salary):\n        Student.__init__(self, name, grage)\n        Employee.__init__(self, salary)\n\n\nx \u003d Student(\u0027Oleg\u0027, 9)\ny \u003d TA(\u0027Sergei\u0027, 10, 1000)\nz \u003d Teacher(\u0027Andrei\u0027, 2000)\n\nfor person in [x, y, z]:\n    print(person.name)\n    if isinstance(person, Employee):\n        print(person.salary)\n    if isinstance(person, Student):\n        print(person.grade)\n",
      "metadata": {
        "pycharm": {
          "metadata": false,
          "name": "#%%\n"
        }
      }
    },
    {
      "cell_type": "markdown",
      "source": "##### Function _isinstance_\n",
      "metadata": {
        "pycharm": {
          "metadata": false,
          "name": "#%% md\n"
        }
      }
    },
    {
      "cell_type": "code",
      "execution_count": null,
      "outputs": [],
      "source": "x \u003d 10\nprint(\u0027\u0027)\nprint(isinstance(x, int))\nprint(isinstance(x, float))\nprint(isinstance(x, str))\n\ny \u003d 3.14\nprint(\u0027\u0027)\nprint(isinstance(y, int))\nprint(isinstance(y, float))\nprint(isinstance(y, str))\n\n\nz \u003d \u0027Hello world\u0027\nprint(\u0027\u0027)\nprint(isinstance(z, int))\nprint(isinstance(z, float))\nprint(isinstance(z, str))\n",
      "metadata": {
        "pycharm": {
          "metadata": false,
          "name": "#%%\n"
        }
      }
    },
    {
      "cell_type": "code",
      "execution_count": null,
      "outputs": [],
      "source": "class A:\n    pass\n\n\nclass B:\n    pass\n\n\nclass C(A):\n    pass\n\n\nclass D(A, B):\n    pass\n\n\na \u003d A()\nb \u003d B()\nc \u003d C()\nd \u003d D()\n\nprint(\u0027\u0027)\nprint(isinstance(a, object))\nprint(isinstance(a, A))\nprint(isinstance(b, B))\n\nprint(\u0027\u0027)\nprint(isinstance(b, object))\nprint(isinstance(b, A))\nprint(isinstance(b, B))\nprint(isinstance(b, C))\n\nprint(\u0027\u0027)\nprint(isinstance(c, object))\nprint(isinstance(c, A))\nprint(isinstance(c, B))\nprint(isinstance(c, D))\n\n\nprint(\u0027\u0027)\nprint(isinstance(d, object))\nprint(isinstance(d, A))\nprint(isinstance(d, B))\nprint(isinstance(d, C))\nprint(isinstance(d, D))\n",
      "metadata": {
        "pycharm": {
          "metadata": false,
          "name": "#%%\n"
        }
      }
    },
    {
      "cell_type": "markdown",
      "source": "##### Composition\n",
      "metadata": {
        "pycharm": {
          "metadata": false,
          "name": "#%% md\n"
        }
      }
    },
    {
      "cell_type": "code",
      "execution_count": null,
      "outputs": [],
      "source": "class Teacher:\n    pass\n\nclass Student:\n    pass\n\nclass ClassRoom:\n    def __init__(self, teacher, students):\n        self.teacher \u003d teacher\n        self.students \u003d students\n\n\ncl \u003d ClassRoom(Teacher(), [Student(), Student(), Student()])\n",
      "metadata": {
        "pycharm": {
          "metadata": false,
          "name": "#%%\n"
        }
      }
    },
    {
      "cell_type": "code",
      "execution_count": null,
      "outputs": [],
      "source": "class Set:\n\n    def __init__(self, values\u003dNone):\n        self.dict \u003d {}\n\n        if values is not None:\n            for value in values:\n                self.add(value)\n\n    def __repr__(self):\n        return \"Set: \" + str(self.dict.keys())\n\n    def add(self, value):\n        self.dict[value] \u003d True\n\n    def contains(self, value):\n        return value in self.dict\n\n    def remove(self, value):\n        del self.dict[value]\n\n\ns \u003d Set([1,2,3])\ns.add(4)\nprint(s.contains(4))\ns.remove(3)\nprint(s.contains(3))\n",
      "metadata": {
        "pycharm": {
          "metadata": false,
          "name": "#%%\n"
        }
      }
    }
  ],
  "metadata": {
    "language_info": {
      "codemirror_mode": {
        "name": "ipython",
        "version": 2
      },
      "file_extension": ".py",
      "mimetype": "text/x-python",
      "name": "python",
      "nbconvert_exporter": "python",
      "pygments_lexer": "ipython2",
      "version": "2.7.6"
    },
    "kernelspec": {
      "name": "python3",
      "language": "python",
      "display_name": "Python 3"
    }
  },
  "nbformat": 4,
  "nbformat_minor": 0
}