{
  "cells": [
    {
      "cell_type": "markdown",
      "metadata": {
        "collapsed": true,
        "pycharm": {
          "name": "#%% md\n"
        }
      },
      "source": "#  Workshop 13\n## _Object-oriented programming._\n### TODO: UNDER DEVELOPMENT\n\n#### Classes and Objects\n"
    },
    {
      "cell_type": "code",
      "execution_count": null,
      "outputs": [],
      "source": "class MyClass:\n    pass\n\n\nobj1 \u003d MyClass()\nobj2 \u003d MyClass()\n\nprint(obj1)\nprint(type(obj1))\n\nprint(obj2)\nprint(type(obj2))\n",
      "metadata": {
        "pycharm": {
          "metadata": false,
          "name": "#%%\n"
        }
      }
    },
    {
      "cell_type": "markdown",
      "source": "##### Constructor and destructor\n",
      "metadata": {
        "pycharm": {
          "metadata": false
        }
      }
    },
    {
      "cell_type": "code",
      "execution_count": null,
      "outputs": [],
      "source": "class Employee: \n  \n    def __init__(self): \n        print(\u0027Employee created.\u0027) \n  \n    def __del__(self): \n        print(\u0027Destructor called, Employee deleted.\u0027) \n  \nobj \u003d Employee() \ndel obj \n",
      "metadata": {
        "pycharm": {
          "metadata": false,
          "name": "#%%\n"
        }
      }
    },
    {
      "cell_type": "markdown",
      "source": "##### Attributes and methods\n",
      "metadata": {
        "pycharm": {
          "metadata": false,
          "name": "#%% md\n"
        }
      }
    },
    {
      "cell_type": "code",
      "execution_count": null,
      "outputs": [],
      "source": "class Student:\n\n    def __init__(self, name, grade):\n        self.name \u003d name\n        self.grade \u003d grade\n\n    def __str__(self):\n        return \u0027{\u0027 + self.name + \u0027: \u0027 + str(self.grade) + \u0027}\u0027\n\n    def learn(self):\n        print(\u0027My name is %s. I am learning Python! My grade is %d.\u0027 % (self.name, self.grade))\n\n\nstudents \u003d [Student(\u0027Steve\u0027, 9), Student(\u0027Oleg\u0027, 10)]\n\nfor student in students:\n    print()\n    print(\u0027student.name \u003d \u0027 + student.name)\n    print(\u0027student.grade \u003d \u0027 + str(student.grade))\n    print(\u0027student \u003d \u0027 + str(student))\n    student.learn()\n",
      "metadata": {
        "pycharm": {
          "metadata": false,
          "name": "#%%\n"
        }
      }
    },
    {
      "cell_type": "markdown",
      "source": "##### Class and instance attributes\n\n\n",
      "metadata": {
        "pycharm": {
          "metadata": false,
          "name": "#%% md\n"
        }
      }
    },
    {
      "cell_type": "markdown",
      "source": "##### Encapsulation\n",
      "metadata": {
        "pycharm": {
          "metadata": false,
          "name": "#%% md\n"
        }
      }
    },
    {
      "cell_type": "code",
      "source": "class Person:\n\n    def __init__(self, name):\n        self.name \u003d name\n\n    def __str__(self):\n        return \u0027My name is \u0027 + self.name\n\nperson \u003d Person(\u0027Steve\u0027)\nprint(person)\n\nperson.name \u003d \u0027Said\u0027 \nprint(person)\n",
      "metadata": {
        "pycharm": {
          "metadata": false,
          "name": "#%%\n"
        }
      },
      "execution_count": null,
      "outputs": []
    },
    {
      "cell_type": "code",
      "execution_count": null,
      "outputs": [],
      "source": "",
      "metadata": {
        "pycharm": {
          "metadata": false,
          "name": "#%%\n"
        }
      }
    },
    {
      "cell_type": "markdown",
      "source": "##### Operator overloading\n\n\n\n ",
      "metadata": {
        "pycharm": {
          "metadata": false
        }
      }
    }
  ],
  "metadata": {
    "language_info": {
      "codemirror_mode": {
        "name": "ipython",
        "version": 2
      },
      "file_extension": ".py",
      "mimetype": "text/x-python",
      "name": "python",
      "nbconvert_exporter": "python",
      "pygments_lexer": "ipython2",
      "version": "2.7.6"
    },
    "kernelspec": {
      "name": "python3",
      "language": "python",
      "display_name": "Python 3"
    }
  },
  "nbformat": 4,
  "nbformat_minor": 0
}