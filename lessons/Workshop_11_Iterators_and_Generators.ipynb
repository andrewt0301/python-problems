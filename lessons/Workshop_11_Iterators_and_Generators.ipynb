{
  "cells": [
    {
      "cell_type": "markdown",
      "metadata": {
        "collapsed": true,
        "pycharm": {
          "name": "#%% md\n"
        }
      },
      "source": "#  Workshop 11\n## _Iterators and generators._\n\n### TODO: UNDER DEVELOPMENT\n\n### Iterators\n\n#### Iterators and the \"for\" loop\n"
    },
    {
      "cell_type": "code",
      "execution_count": null,
      "outputs": [],
      "source": "for i in range(5):\n    print(i)\n\nfor element in [1, 2, 3]:\n    print(element)\n\nfor element in (1, 2, 3):\n    print(element)\n\nfor key in {\u0027one\u0027: 1, \u0027two\u0027: 2}:\n    print(key)\n\nfor char in \"123\":\n    print(char)\n\nfor line in open(\"text.txt\"):\n    print(line, end\u003d\u0027\u0027)\n\n",
      "metadata": {
        "pycharm": {
          "metadata": false,
          "name": "#%%\n"
        }
      }
    },
    {
      "cell_type": "markdown",
      "source": "#### Under the hood: functions \"iter\" and \"next\" \n",
      "metadata": {
        "pycharm": {
          "metadata": false,
          "name": "#%% md\n"
        }
      }
    },
    {
      "cell_type": "code",
      "execution_count": null,
      "outputs": [],
      "source": "s \u003d \u0027abc\u0027\nit \u003d iter(s)\nprint(it)\n\nprint(next(it))\nprint(next(it))\nprint(next(it))\nprint(next(it))\n",
      "metadata": {
        "pycharm": {
          "metadata": false,
          "name": "#%%\n"
        }
      }
    },
    {
      "cell_type": "markdown",
      "source": "#### How iterators are implemented\n\nIterator that returns letters of a string in a reversed order:",
      "metadata": {
        "pycharm": {
          "metadata": false,
          "name": "#%% md\n"
        }
      }
    },
    {
      "cell_type": "code",
      "execution_count": null,
      "outputs": [],
      "source": "class Reverse:\n    \"\"\"Iterator for looping over a sequence backwards.\"\"\"\n\n    def __init__(self, data):\n        self.data \u003d data\n        self.index \u003d len(data)\n\n    def __iter__(self):\n        return self\n\n    def __next__(self):\n        if self.index \u003d\u003d 0:\n            raise StopIteration\n        self.index \u003d self.index - 1\n        return self.data[self.index]\n\n\nrev \u003d Reverse(\u0027spam\u0027)\nprint(iter(rev))\n\nfor char in rev:\n    print(char)\n",
      "metadata": {
        "pycharm": {
          "metadata": false,
          "name": "#%%\n"
        }
      }
    },
    {
      "cell_type": "markdown",
      "source": "Iterator that returns factorials:\n",
      "metadata": {
        "pycharm": {
          "metadata": false,
          "name": "#%% md\n"
        }
      }
    },
    {
      "cell_type": "code",
      "execution_count": null,
      "outputs": [],
      "source": "class Fact:\n    \"\"\"Iterator for calculating factorials.\"\"\"\n\n    def __init__(self, limit):\n        self.n \u003d 1\n        self.limit \u003d limit\n        self.data \u003d 1\n\n    def __iter__(self):\n        return self\n\n    def __next__(self):\n        if self.n \u003e\u003d self.limit:\n            raise StopIteration\n        self.data *\u003d self.n\n        self.n +\u003d 1\n        return self.data\n\n\nfor x in Fact(10):\n    print(x)\n\n### Generators\n",
      "metadata": {
        "pycharm": {
          "metadata": false,
          "name": "#%%\n"
        }
      }
    }
  ],
  "metadata": {
    "language_info": {
      "codemirror_mode": {
        "name": "ipython",
        "version": 2
      },
      "file_extension": ".py",
      "mimetype": "text/x-python",
      "name": "python",
      "nbconvert_exporter": "python",
      "pygments_lexer": "ipython2",
      "version": "2.7.6"
    },
    "kernelspec": {
      "name": "python3",
      "language": "python",
      "display_name": "Python 3"
    }
  },
  "nbformat": 4,
  "nbformat_minor": 0
}