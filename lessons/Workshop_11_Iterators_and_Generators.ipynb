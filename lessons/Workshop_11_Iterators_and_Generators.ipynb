{
  "cells": [
    {
      "cell_type": "markdown",
      "metadata": {
        "collapsed": true,
        "pycharm": {
          "name": "#%% md\n"
        }
      },
      "source": "#  Workshop 11\n## _Iterators and generators._\n\n### Iterators\n\n#### Iterators and the \"for\" loop\n"
    },
    {
      "cell_type": "code",
      "execution_count": null,
      "outputs": [],
      "source": "for i in range(5):\n    print(i)\n\nfor element in [1, 2, 3]:\n    print(element)\n\nfor element in (1, 2, 3):\n    print(element)\n\nfor key in {\u0027one\u0027: 1, \u0027two\u0027: 2}:\n    print(key)\n\nfor char in \"123\":\n    print(char)\n\nfor line in open(\"text.txt\"):\n    print(line, end\u003d\u0027\u0027)\n\n",
      "metadata": {
        "pycharm": {
          "metadata": false,
          "name": "#%%\n"
        }
      }
    },
    {
      "cell_type": "markdown",
      "source": "#### Under the hood: functions \"iter\" and \"next\" \n",
      "metadata": {
        "pycharm": {
          "metadata": false,
          "name": "#%% md\n"
        }
      }
    },
    {
      "cell_type": "code",
      "execution_count": null,
      "outputs": [],
      "source": "s \u003d \u0027abc\u0027\nit \u003d iter(s)\nprint(it)\n\nprint(next(it))\nprint(next(it))\nprint(next(it))\nprint(next(it))\n",
      "metadata": {
        "pycharm": {
          "metadata": false,
          "name": "#%%\n"
        }
      }
    },
    {
      "cell_type": "markdown",
      "source": "#### How iterators are implemented\n\nIterator that returns letters of a string in a reversed order:",
      "metadata": {
        "pycharm": {
          "metadata": false,
          "name": "#%% md\n"
        }
      }
    },
    {
      "cell_type": "code",
      "execution_count": null,
      "outputs": [],
      "source": "class Reverse:\n    \"\"\"Iterator for looping over a sequence backwards.\"\"\"\n\n    def __init__(self, data):\n        self.data \u003d data\n        self.index \u003d len(data)\n\n    def __iter__(self):\n        return self\n\n    def __next__(self):\n        if self.index \u003d\u003d 0:\n            raise StopIteration\n        self.index \u003d self.index - 1\n        return self.data[self.index]\n\n\nrev \u003d Reverse(\u0027spam\u0027)\nprint(iter(rev))\n\nfor char in rev:\n    print(char)\n",
      "metadata": {
        "pycharm": {
          "metadata": false,
          "name": "#%%\n"
        }
      }
    },
    {
      "cell_type": "markdown",
      "source": "Iterator that returns factorials:\n",
      "metadata": {
        "pycharm": {
          "metadata": false,
          "name": "#%% md\n"
        }
      }
    },
    {
      "cell_type": "code",
      "execution_count": null,
      "outputs": [],
      "source": "class Fact:\n    \"\"\"Iterator for calculating factorials.\"\"\"\n\n    def __init__(self, limit):\n        self.n \u003d 1\n        self.limit \u003d limit\n        self.data \u003d 1\n\n    def __iter__(self):\n        return self\n\n    def __next__(self):\n        if self.n \u003e\u003d self.limit:\n            raise StopIteration\n        self.data *\u003d self.n\n        self.n +\u003d 1\n        return self.data\n\n\nfor x in Fact(10):\n    print(x)\n",
      "metadata": {
        "pycharm": {
          "metadata": false,
          "name": "#%%\n"
        }
      }
    },
    {
      "cell_type": "markdown",
      "source": "### Generators\n\n\nGenerators are a simple and powerful tool for creating iterators.\n",
      "metadata": {
        "pycharm": {
          "metadata": false,
          "name": "#%% md\n"
        }
      }
    },
    {
      "cell_type": "code",
      "execution_count": null,
      "outputs": [],
      "source": "def reverse(data):\n    for index in range(len(data)-1, -1, -1):\n        yield data[index]\n\n\nfor char in reverse(\u0027golf\u0027):\n    print(char)\n",
      "metadata": {
        "pycharm": {
          "metadata": false,
          "name": "#%%\n"
        }
      }
    },
    {
      "cell_type": "code",
      "execution_count": null,
      "outputs": [],
      "source": "def squares(n):\n    for i in range(n):\n        yield i ** 2\n\n\nfor x in squares(10):\n    print(x)\n",
      "metadata": {
        "pycharm": {
          "metadata": false,
          "name": "#%%\n"
        }
      }
    },
    {
      "cell_type": "code",
      "execution_count": null,
      "outputs": [],
      "source": "def fact(n):\n    f \u003d 1\n    for i in range(1, n):\n        f *\u003d i\n        yield f\n\n\nfor x in fact(10):\n    print(x)\n\n",
      "metadata": {
        "pycharm": {
          "metadata": false,
          "name": "#%%\n"
        }
      }
    },
    {
      "cell_type": "markdown",
      "source": "### Generator expressions\n",
      "metadata": {
        "pycharm": {
          "metadata": false,
          "name": "#%% md\n"
        }
      }
    },
    {
      "cell_type": "code",
      "execution_count": null,
      "outputs": [],
      "source": "for i in (x*x for x in range(10)):\n    print(i)\n",
      "metadata": {
        "pycharm": {
          "metadata": false,
          "name": "#%%\n"
        }
      }
    },
    {
      "cell_type": "code",
      "execution_count": null,
      "outputs": [],
      "source": "for i in (x for x in range(10) if x % 2 \u003d\u003d 0):\n    print(i)\n",
      "metadata": {
        "pycharm": {
          "metadata": false,
          "name": "#%%\n"
        }
      }
    },
    {
      "cell_type": "code",
      "execution_count": null,
      "outputs": [],
      "source": "import math\nfor i in (x for x in range(10) if math.sqrt(x) - math.trunc(math.sqrt(x)) \u003d\u003d 0):\n    print(i)\n",
      "metadata": {
        "pycharm": {
          "metadata": false,
          "name": "#%% \n"
        }
      }
    },
    {
      "cell_type": "code",
      "execution_count": null,
      "outputs": [],
      "source": "s \u003d sum(i*i for i in range(10))\nprint(s)\n\n",
      "metadata": {
        "pycharm": {
          "metadata": false,
          "name": "#%%\n"
        }
      }
    },
    {
      "cell_type": "code",
      "execution_count": null,
      "outputs": [],
      "source": "from math import pi, sin\nsin_table \u003d {x: sin(x*pi/180) for x in range(0, 91)}\nprint(sin_table)\n",
      "metadata": {
        "pycharm": {
          "metadata": false,
          "name": "#%%\n"
        }
      }
    },
    {
      "cell_type": "code",
      "execution_count": null,
      "outputs": [],
      "source": "data \u003d \u0027golf\u0027\nletter_list \u003d list(data[i] for i in range(len(data)-1, -1, -1))\nprint(letter_list)\n",
      "metadata": {
        "pycharm": {
          "metadata": false,
          "name": "#%%\n"
        }
      }
    },
    {
      "cell_type": "code",
      "execution_count": null,
      "outputs": [],
      "source": "print([x + y for x in \u0027abc\u0027 for y in \u0027lmn\u0027])\n",
      "metadata": {
        "pycharm": {
          "metadata": false,
          "name": "#%%\n"
        }
      }
    },
    {
      "cell_type": "markdown",
      "source": "### Functional tools\n\n#### filter\n",
      "metadata": {
        "pycharm": {
          "metadata": false,
          "name": "#%% md\n"
        }
      }
    },
    {
      "cell_type": "code",
      "execution_count": null,
      "outputs": [],
      "source": "print(*filter(lambda x: x % 2 !\u003d 0, range(10)))\n",
      "metadata": {
        "pycharm": {
          "metadata": false,
          "name": "#%%\n"
        }
      }
    },
    {
      "cell_type": "code",
      "execution_count": null,
      "outputs": [],
      "source": "import math\nprint(*filter(lambda x: math.sqrt(x) - int(math.sqrt(x)) \u003d\u003d 0, range(100)))\n",
      "metadata": {
        "pycharm": {
          "metadata": false,
          "name": "#%%\n"
        }
      }
    },
    {
      "cell_type": "markdown",
      "source": "#### map\n",
      "metadata": {
        "pycharm": {
          "metadata": false,
          "name": "#%% md\n"
        }
      }
    },
    {
      "cell_type": "code",
      "execution_count": null,
      "outputs": [],
      "source": "print(*map(lambda x: x * x, range(10)))\n",
      "metadata": {
        "pycharm": {
          "metadata": false,
          "name": "#%%\n"
        }
      }
    },
    {
      "cell_type": "code",
      "execution_count": null,
      "outputs": [],
      "source": "print(*map(lambda c: \u0027_\u0027 + c.upper() + \u0027_\u0027 , \u0027hello\u0027))\n",
      "metadata": {
        "pycharm": {
          "metadata": false,
          "name": "#%%\n"
        }
      }
    },
    {
      "cell_type": "markdown",
      "source": "#### reduce\n",
      "metadata": {
        "pycharm": {
          "metadata": false,
          "name": "#%% md\n"
        }
      }
    },
    {
      "cell_type": "code",
      "execution_count": null,
      "outputs": [],
      "source": "from functools import reduce\n\n# Arithmetic series\nprint(reduce(lambda a, b: a + b, range(1, 5)))\n\n# Factorial\nprint(reduce(lambda a, b: a * b, range(1, 5)))\n",
      "metadata": {
        "pycharm": {
          "metadata": false,
          "name": "#%%\n"
        }
      }
    },
    {
      "cell_type": "markdown",
      "source": "#### zip\n",
      "metadata": {
        "pycharm": {
          "metadata": false,
          "name": "#%% md\n"
        }
      }
    },
    {
      "cell_type": "code",
      "execution_count": null,
      "outputs": [],
      "source": "x_list \u003d [10, 20, 30]\ny_list \u003d [7, 5, 3]\ns \u003d sum(x*y for x, y in zip(x_list, y_list))\nprint(s)\n",
      "metadata": {
        "pycharm": {
          "metadata": false,
          "name": "#%%\n"
        }
      }
    },
    {
      "cell_type": "markdown",
      "source": "#### enumerate\n",
      "metadata": {
        "pycharm": {
          "metadata": false,
          "name": "#%% md\n"
        }
      }
    },
    {
      "cell_type": "code",
      "execution_count": null,
      "outputs": [],
      "source": "for i, x in enumerate(x * x for x in range(10)):\n    print(i, \" * \", i, \" \u003d \", x)\n",
      "metadata": {
        "pycharm": {
          "metadata": false,
          "name": "#%%\n"
        }
      }
    }
  ],
  "metadata": {
    "language_info": {
      "codemirror_mode": {
        "name": "ipython",
        "version": 2
      },
      "file_extension": ".py",
      "mimetype": "text/x-python",
      "name": "python",
      "nbconvert_exporter": "python",
      "pygments_lexer": "ipython2",
      "version": "2.7.6"
    },
    "kernelspec": {
      "name": "python3",
      "language": "python",
      "display_name": "Python 3"
    }
  },
  "nbformat": 4,
  "nbformat_minor": 0
}